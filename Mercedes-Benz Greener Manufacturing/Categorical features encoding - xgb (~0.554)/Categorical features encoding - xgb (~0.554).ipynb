{
 "cells": [
  {
   "cell_type": "markdown",
   "metadata": {},
   "source": [
    "*This code is written by Yohan.(https://www.kaggle.com/yohanb/categorical-features-encoding-xgb-0-554) Thanks for sharing!\n",
    "\n",
    "### 이 노트북에서는 범주형 features를 인코딩해 볼 것입니다."
   ]
  },
  {
   "cell_type": "code",
   "execution_count": 1,
   "metadata": {},
   "outputs": [],
   "source": [
    "import numpy as np\n",
    "import pandas as pd\n",
    "\n",
    "import matplotlib.pyplot as plt\n",
    "import seaborn as sns\n",
    "%matplotlib inline\n",
    "\n",
    "import xgboost as xgb \n",
    "from sklearn.metrics import r2_score\n",
    "\n",
    "from IPython.display import display, HTML\n",
    "# Shows all columns of a dataframe\n",
    "def show_dataframe(X, rows = 2):\n",
    "    display(HTML(X.to_html(max_rows=rows)))"
   ]
  },
  {
   "cell_type": "code",
   "execution_count": null,
   "metadata": {},
   "outputs": [],
   "source": []
  }
 ],
 "metadata": {
  "kernelspec": {
   "display_name": "Python 3",
   "language": "python",
   "name": "python3"
  },
  "language_info": {
   "codemirror_mode": {
    "name": "ipython",
    "version": 3
   },
   "file_extension": ".py",
   "mimetype": "text/x-python",
   "name": "python",
   "nbconvert_exporter": "python",
   "pygments_lexer": "ipython3",
   "version": "3.7.1"
  }
 },
 "nbformat": 4,
 "nbformat_minor": 2
}
